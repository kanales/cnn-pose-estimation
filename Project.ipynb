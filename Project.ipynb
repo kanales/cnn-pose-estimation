{
 "cells": [
  {
   "cell_type": "code",
   "execution_count": null,
   "metadata": {},
   "outputs": [],
   "source": [
    "import os\n",
    "import re\n",
    "import random\n",
    "#import cv2\n",
    "import numpy as np\n",
    "import matplotlib.pyplot as plt\n",
    "import matplotlib.image as mpimg\n",
    "\n",
    "from itertools import count\n",
    "from collections import namedtuple\n",
    "\n",
    "%matplotlib inline"
   ]
  },
  {
   "cell_type": "markdown",
   "metadata": {},
   "source": [
    "# Task 1"
   ]
  },
  {
   "cell_type": "code",
   "execution_count": null,
   "metadata": {},
   "outputs": [],
   "source": [
    "Sample = namedtuple('Sample', ['cls', 'idx','quat','img'])\n",
    "def normalize(mat):\n",
    "    out = np.empty_like(mat)\n",
    "    for i in range(3):\n",
    "        m = np.mean(mat[:,:,i])\n",
    "        v = np.var(mat[:,:,i])\n",
    "        out[:,:,i] = (mat[:,:,i] - m) / v\n",
    "    return out\n",
    "\n",
    "def parse(folder, cls):\n",
    "    # quats\n",
    "    quats = []\n",
    "    with open(os.path.join(folder,'poses.txt'),'r') as f:\n",
    "        while True:\n",
    "            line1 = f.readline()\n",
    "            line2 = f.readline()\n",
    "            if not line2: break\n",
    "            quats.append(np.array([float(x) for x in line2.split()]))\n",
    "\n",
    "    # images\n",
    "    imgs = []\n",
    "    p = re.compile(r'[A-Za-z]+[0-9]+\\.png')\n",
    "    for imname in os.listdir(folder):\n",
    "        if p.match(imname):\n",
    "            imgs.append(\n",
    "                normalize(mpimg.imread(os.path.join(folder,imname))))\n",
    "            \n",
    "    return [Sample(cls, idx, quat, img) for idx, quat, img in zip(count(),quats,imgs)]"
   ]
  },
  {
   "cell_type": "markdown",
   "metadata": {},
   "source": [
    "## Loading Data"
   ]
  },
  {
   "cell_type": "code",
   "execution_count": null,
   "metadata": {},
   "outputs": [],
   "source": [
    "N_CLASSES = len(os.listdir('dataset/coarse/'))\n",
    "\n",
    "data = []\n",
    "p = re.compile(r'[A-Za-z]+[0-9]+\\.png')\n",
    "for root, subfolders,_ in os.walk('dataset/coarse/'):\n",
    "    for i,folder in enumerate(sorted(subfolders)):\n",
    "        data.append(parse(os.path.join(root,folder), i))\n",
    "\n",
    "coarse = [l for lst in data for l in lst]\n",
    "\n",
    "data = []\n",
    "for root, subfolders,_ in os.walk('dataset/fine/'):\n",
    "    for i,folder in enumerate(sorted(subfolders)):\n",
    "        data.append(parse(os.path.join(root,folder), i))\n",
    "        \n",
    "fine = [l for lst in data for l in lst]\n",
    "\n",
    "data = []\n",
    "for root, subfolders,_ in os.walk('dataset/real/'):\n",
    "    for i,folder in enumerate(sorted(subfolders)):\n",
    "        data.append(parse(os.path.join(root,folder), i))\n",
    "\n",
    "real = [l for lst in data for l in lst]"
   ]
  },
  {
   "cell_type": "code",
   "execution_count": null,
   "metadata": {},
   "outputs": [],
   "source": [
    "train_idxs = ()\n",
    "with open('dataset/real/training_split.txt') as f:\n",
    "    train_idxs = set(int(x) for x in f.read().split(', '))\n",
    "test_idxs = set(range(len(real))) - train_idxs"
   ]
  },
  {
   "cell_type": "code",
   "execution_count": null,
   "metadata": {},
   "outputs": [],
   "source": [
    "Sdb    = coarse\n",
    "Strain = fine + [real[i] for i in train_idxs]\n",
    "Stest  = [real[i] for i in test_idxs]"
   ]
  },
  {
   "cell_type": "code",
   "execution_count": null,
   "metadata": {},
   "outputs": [],
   "source": [
    "print(len(Sdb), len(Strain), len(Stest))"
   ]
  },
  {
   "cell_type": "code",
   "execution_count": null,
   "metadata": {},
   "outputs": [],
   "source": [
    "def similarity(q1, q2):\n",
    "    return 2 * np.arccos(min(1,np.abs(q1 @ q2)))\n",
    "\n",
    "def batch(Sdb, Strain, n):\n",
    "    def gen():\n",
    "        while 1:\n",
    "            # Anchor: select random sample from Strain\n",
    "            anchor = random.choice(Strain)\n",
    "            # Puller: select most similar from Sdb\n",
    "            puller = max(Sdb, key = lambda x: similarity(x.quat,anchor.quat))\n",
    "            # Pusher: same object different pose | random different object \n",
    "            pusher = random.choice([x for x in Sdb if x.cls != anchor.cls])\n",
    "            yield anchor\n",
    "            yield puller\n",
    "            yield pusher\n",
    "    g = gen()\n",
    "    return [next(g) for _ in range(3*n)]"
   ]
  },
  {
   "cell_type": "code",
   "execution_count": null,
   "metadata": {
    "scrolled": false
   },
   "outputs": [],
   "source": [
    "#img = mpimg.imread('dataset/coarse/ape/coarse250.png')\n",
    "plt.imshow(Sdb[100].img)"
   ]
  }
 ],
 "metadata": {
  "hide_input": false,
  "kernelspec": {
   "display_name": "Python 3",
   "language": "python",
   "name": "python3"
  },
  "language_info": {
   "codemirror_mode": {
    "name": "ipython",
    "version": 3
   },
   "file_extension": ".py",
   "mimetype": "text/x-python",
   "name": "python",
   "nbconvert_exporter": "python",
   "pygments_lexer": "ipython3",
   "version": "3.6.5"
  }
 },
 "nbformat": 4,
 "nbformat_minor": 2
}
