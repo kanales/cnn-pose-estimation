{
 "cells": [
  {
   "cell_type": "code",
   "execution_count": null,
   "metadata": {},
   "outputs": [],
   "source": [
    "import os\n",
    "import re\n",
    "#import cv2\n",
    "import numpy as np\n",
    "import matplotlib.pyplot as plt\n",
    "import matplotlib.image as mpimg\n",
    "\n",
    "%matplotlib inline"
   ]
  },
  {
   "cell_type": "markdown",
   "metadata": {},
   "source": [
    "# Task 1"
   ]
  },
  {
   "cell_type": "code",
   "execution_count": null,
   "metadata": {},
   "outputs": [],
   "source": [
    "def parse(folder):\n",
    "    # quats  \n",
    "    quats = []\n",
    "    with open(os.path.join(folder,'poses.txt'),'r') as f:\n",
    "        while True:\n",
    "            line1 = f.readline()\n",
    "            line2 = f.readline()\n",
    "            if not line2:break\n",
    "            quats.append([float(x) for x in line2.split()])\n",
    "            \n",
    "    # images\n",
    "    imgs = []\n",
    "    p = re.compile(r'[A-Za-z]+[0-9]+\\.png')\n",
    "    for imname in os.listdir(folder):\n",
    "        if p.match(imname): \n",
    "            imgs.append(mpimg.imread(os.path.join(folder,imname)))\n",
    "            \n",
    "    return [{'quat':quat, 'img':img} for quat, img in zip(quats,imgs)]"
   ]
  },
  {
   "cell_type": "code",
   "execution_count": null,
   "metadata": {},
   "outputs": [],
   "source": [
    "S_db = {}\n",
    "p = re.compile(r'[A-Za-z]+[0-9]+\\.png')\n",
    "for root, subfolders,_ in os.walk('dataset/coarse/'):\n",
    "    for i,folder in enumerate(subfolders):\n",
    "        S_db[folder] = parse(os.path.join(root,folder))\n",
    "len(S_db)"
   ]
  },
  {
   "cell_type": "code",
   "execution_count": null,
   "metadata": {},
   "outputs": [],
   "source": [
    "#img = mpimg.imread('dataset/coarse/ape/coarse250.png')\n",
    "plt.imshow(S_db['cat'][26]['img'])"
   ]
  },
  {
   "cell_type": "code",
   "execution_count": null,
   "metadata": {},
   "outputs": [],
   "source": [
    "import re\n",
    "import numpy as np\n",
    "from os import listdir\n",
    "from os.path import isfile, join\n",
    "\n",
    "def training_set():\n",
    "    realpath = \"dataset/real/\"\n",
    "    \n",
    "    name_objects = ['ape/', 'benchvise/', 'cam/', 'cat/', 'duck/']\n",
    "    allfiles = []\n",
    "    splitted =[]\n",
    "    \n",
    "    for name in name_objects:\n",
    "        mypath = realpath+name\n",
    "        allfiles.append([mypath+f for f in listdir(mypath) if isfile(join(mypath, f))])\n",
    "    \n",
    "    split_indexes = np.array(list(open(\"./dataset/real/training_split.txt\", \"r\"))[0].split(','), np.int)\n",
    "    \n",
    "    \n",
    "    for split_id in split_indexes: \n",
    "        for folder in allfiles:\n",
    "            for f in folder:\n",
    "                if re.search('[a-zA-Z]('+str(split_id)+').[a-zA-Z]+', f):\n",
    "                    splitted.append(f)\n",
    "    \n",
    "    return splitted\n"
   ]
  }
 ],
 "metadata": {
  "hide_input": false,
  "kernelspec": {
   "display_name": "Python 2",
   "language": "python",
   "name": "python2"
  },
  "language_info": {
   "codemirror_mode": {
    "name": "ipython",
    "version": 2
   },
   "file_extension": ".py",
   "mimetype": "text/x-python",
   "name": "python",
   "nbconvert_exporter": "python",
   "pygments_lexer": "ipython2",
   "version": "2.7.15"
  }
 },
 "nbformat": 4,
 "nbformat_minor": 2
}
