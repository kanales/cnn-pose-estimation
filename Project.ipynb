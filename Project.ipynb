{
 "cells": [
  {
   "cell_type": "code",
   "execution_count": 1,
   "metadata": {},
   "outputs": [],
   "source": [
    "#import cv2\n",
    "import numpy as np\n",
    "import matplotlib.pyplot as plt\n",
    "import os\n",
    "import tensorflow as tf\n",
    "from importlib import reload\n",
    "from shutil import rmtree\n",
    "from itertools import islice\n",
    "\n",
    "%matplotlib inline"
   ]
  },
  {
   "cell_type": "markdown",
   "metadata": {},
   "source": [
    "# Task 1"
   ]
  },
  {
   "cell_type": "code",
   "execution_count": 2,
   "metadata": {},
   "outputs": [],
   "source": [
    "from data_preparation import read_images, un_normalize\n",
    "from model import cnn_model_fn, batch, similarity"
   ]
  },
  {
   "cell_type": "markdown",
   "metadata": {},
   "source": [
    "## Loading Data"
   ]
  },
  {
   "cell_type": "code",
   "execution_count": 3,
   "metadata": {},
   "outputs": [],
   "source": [
    "N_CLASSES = len(os.listdir('dataset/coarse/'))\n",
    "\n",
    "coarse = read_images('dataset/coarse/')\n",
    "fine = read_images('dataset/fine/')\n",
    "real = read_images('dataset/real/')\n",
    "train_idxs = ()\n",
    "with open('dataset/real/training_split.txt') as f:\n",
    "    train_idxs = set(int(x) for x in f.read().split(', '))\n",
    "test_idxs = set(range(len(real))) - train_idxs\n",
    "Sdb    = coarse\n",
    "Strain = fine + [real[i] for i in train_idxs]\n",
    "Stest  = [real[i] for i in test_idxs]"
   ]
  },
  {
   "cell_type": "markdown",
   "metadata": {},
   "source": [
    "# Task 2"
   ]
  },
  {
   "cell_type": "markdown",
   "metadata": {},
   "source": [
    "Creating the neural network"
   ]
  },
  {
   "cell_type": "markdown",
   "metadata": {},
   "source": [
    "### Cache"
   ]
  },
  {
   "cell_type": "code",
   "execution_count": 4,
   "metadata": {},
   "outputs": [],
   "source": [
    "import os\n",
    "\n",
    "if __name__ == '__main__':\n",
    "    CACHE_DIR = 'cache/'\n",
    "    rmtree(CACHE_DIR)\n",
    "    os.makedirs(CACHE_DIR)\n",
    "    MODEL_PATH = os.path.join(CACHE_DIR,'cnn_model')\n",
    "    INPUT_PATH = os.path.join(CACHE_DIR,'cnn_input')\n",
    "    os.makedirs(MODEL_PATH)\n",
    "    os.makedirs(INPUT_PATH)"
   ]
  },
  {
   "cell_type": "code",
   "execution_count": 5,
   "metadata": {},
   "outputs": [
    {
     "name": "stdout",
     "output_type": "stream",
     "text": [
      "Generating batch!\n"
     ]
    },
    {
     "data": {
      "image/png": "[encoded data removed]",
      "text/plain": [
       "<Figure size 432x288 with 3 Axes>"
      ]
     },
     "metadata": {
      "needs_background": "light"
     },
     "output_type": "display_data"
    }
   ],
   "source": [
    "imgs = list(islice(map(un_normalize, batch(Sdb,Strain)()),3))\n",
    "fig, ax = plt.subplots(1,3)\n",
    "fig.suptitle('Some examples', fontsize=16)\n",
    "ax[0].set_title('Anchor')\n",
    "ax[0].imshow(imgs[0])\n",
    "ax[1].set_title('Puller')\n",
    "ax[1].imshow(imgs[1])\n",
    "ax[2].set_title('Pusher')\n",
    "ax[2].imshow(imgs[2]);"
   ]
  },
  {
   "cell_type": "markdown",
   "metadata": {},
   "source": [
    "Define Model"
   ]
  },
  {
   "cell_type": "code",
   "execution_count": 6,
   "metadata": {
    "scrolled": true
   },
   "outputs": [
    {
     "name": "stdout",
     "output_type": "stream",
     "text": [
      "INFO:tensorflow:Using default config.\n",
      "INFO:tensorflow:Using config: {'_model_dir': 'cache/cnn_model', '_tf_random_seed': None, '_save_summary_steps': 100, '_save_checkpoints_steps': None, '_save_checkpoints_secs': 600, '_session_config': allow_soft_placement: true\n",
      "graph_options {\n",
      "  rewrite_options {\n",
      "    meta_optimizer_iterations: ONE\n",
      "  }\n",
      "}\n",
      ", '_keep_checkpoint_max': 5, '_keep_checkpoint_every_n_hours': 10000, '_log_step_count_steps': 100, '_train_distribute': None, '_device_fn': None, '_protocol': None, '_eval_distribute': None, '_experimental_distribute': None, '_service': None, '_cluster_spec': <tensorflow.python.training.server_lib.ClusterSpec object at 0xb3e7a2048>, '_task_type': 'worker', '_task_id': 0, '_global_id_in_cluster': 0, '_master': '', '_evaluation_master': '', '_is_chief': True, '_num_ps_replicas': 0, '_num_worker_replicas': 1}\n"
     ]
    }
   ],
   "source": [
    "cnn_descriptor = tf.estimator.Estimator(\n",
    "    model_fn=cnn_model_fn, model_dir=MODEL_PATH)"
   ]
  },
  {
   "cell_type": "code",
   "execution_count": 7,
   "metadata": {},
   "outputs": [],
   "source": [
    "# train input\n",
    "def gen_train_input_fn(Sdb,Strain, batch_size):\n",
    "    #Sdb    = features['Sdb']\n",
    "    #Strain = features['Strain']\n",
    "    #dataset = tf.data.Dataset.from_tensor_slices(tf.convert_to_tensor(batch(Sdb,Strain,batch_size)))\n",
    "    assert(batch_size % 3 == 0)\n",
    "    def inner():\n",
    "        #b = batch(Sdb,Strain,batch_size)\n",
    "        #dataset = tf.data.Dataset.from_tensor_slices(tf.convert_to_tensor(b))\n",
    "        dataset = tf.data.Dataset.from_generator(\n",
    "            batch(Sdb,Strain),\n",
    "            tf.float32,\n",
    "            tf.TensorShape([64, 64, 3])\n",
    "        )\n",
    "        return dataset.batch(batch_size)\n",
    "    return inner"
   ]
  },
  {
   "cell_type": "code",
   "execution_count": 8,
   "metadata": {},
   "outputs": [],
   "source": [
    "from sklearn.neighbors import KNeighborsClassifier\n",
    "def get_hist(Sdb, Sdb_descriptors, Stest, Stest_descriptors):\n",
    "    neigh = KNeighborsClassifier(n_neighbors=1)\n",
    "    X, y = Sdb_descriptors, [x.cls for x in Sdb]\n",
    "    neigh.fit(X,y)\n",
    "\n",
    "    idxs = neigh.kneighbors(Stest_descriptors)[1]\n",
    "\n",
    "    hist = np.array([0,0,0,0])\n",
    "    N = len(Stest_descriptors)\n",
    "    for i in range(N):\n",
    "        db = Sdb[idxs[i][0]]\n",
    "        test = Stest[i]\n",
    "\n",
    "        if db.cls != test.cls:\n",
    "            continue\n",
    "\n",
    "        theta = np.rad2deg(similarity(db.quat, test.quat))\n",
    "        if theta < 10:\n",
    "            hist[0] += 1\n",
    "        if theta < 20:\n",
    "            hist[1] += 1\n",
    "        if theta < 40:\n",
    "            hist[2] += 1\n",
    "        hist[3] += 1\n",
    "    return hist"
   ]
  },
  {
   "cell_type": "code",
   "execution_count": null,
   "metadata": {},
   "outputs": [
    {
     "name": "stdout",
     "output_type": "stream",
     "text": [
      "INFO:tensorflow:Calling model_fn.\n",
      "(?, 16)\n",
      "INFO:tensorflow:Done calling model_fn.\n",
      "INFO:tensorflow:Create CheckpointSaverHook.\n",
      "INFO:tensorflow:Graph was finalized.\n",
      "INFO:tensorflow:Running local_init_op.\n",
      "INFO:tensorflow:Done running local_init_op.\n",
      "INFO:tensorflow:Saving checkpoints for 0 into cache/cnn_model/model.ckpt.\n",
      "Generating batch!\n",
      "Generating batch!\n",
      "Generating batch!\n",
      "Generating batch!\n",
      "Generating batch!\n",
      "Generating batch!\n",
      "Generating batch!\n",
      "Generating batch!\n",
      "Generating batch!\n",
      "Generating batch!\n",
      "Generating batch!\n",
      "Generating batch!\n",
      "Generating batch!\n",
      "Generating batch!\n",
      "Generating batch!\n",
      "Generating batch!\n",
      "Generating batch!\n",
      "Generating batch!\n",
      "Generating batch!\n",
      "Generating batch!\n",
      "Generating batch!\n",
      "Generating batch!\n",
      "Generating batch!\n",
      "Generating batch!\n",
      "Generating batch!\n",
      "Generating batch!\n",
      "Generating batch!\n",
      "Generating batch!\n",
      "Generating batch!\n",
      "Generating batch!\n",
      "Generating batch!\n",
      "Generating batch!\n",
      "Generating batch!\n",
      "Generating batch!\n",
      "Generating batch!\n",
      "Generating batch!\n",
      "Generating batch!\n",
      "Generating batch!\n",
      "Generating batch!\n",
      "Generating batch!\n",
      "Generating batch!\n",
      "Generating batch!\n",
      "Generating batch!\n",
      "Generating batch!\n",
      "Generating batch!\n",
      "Generating batch!\n",
      "Generating batch!\n",
      "Generating batch!\n",
      "Generating batch!\n",
      "Generating batch!\n",
      "Generating batch!\n",
      "Generating batch!\n",
      "Generating batch!\n",
      "Generating batch!\n",
      "Generating batch!\n",
      "Generating batch!\n",
      "Generating batch!\n",
      "Generating batch!\n",
      "Generating batch!\n",
      "Generating batch!\n",
      "Generating batch!\n",
      "Generating batch!\n",
      "Generating batch!\n",
      "Generating batch!\n",
      "Generating batch!\n",
      "Generating batch!\n",
      "Generating batch!\n",
      "Generating batch!\n",
      "Generating batch!\n",
      "Generating batch!\n",
      "Generating batch!\n",
      "Generating batch!\n",
      "Generating batch!\n",
      "Generating batch!\n",
      "Generating batch!\n",
      "Generating batch!\n",
      "Generating batch!\n",
      "Generating batch!\n",
      "Generating batch!\n",
      "Generating batch!\n",
      "Generating batch!\n",
      "Generating batch!\n",
      "Generating batch!\n",
      "Generating batch!\n",
      "Generating batch!\n",
      "Generating batch!\n",
      "Generating batch!\n",
      "Generating batch!\n",
      "Generating batch!\n",
      "Generating batch!\n",
      "Generating batch!\n",
      "Generating batch!\n",
      "Generating batch!\n",
      "Generating batch!\n",
      "Generating batch!\n",
      "Generating batch!\n",
      "Generating batch!\n",
      "Generating batch!\n",
      "Generating batch!\n",
      "Generating batch!\n"
     ]
    }
   ],
   "source": [
    "train_input_fn = gen_train_input_fn(Sdb,Strain,300)\n",
    "hists = []\n",
    "for x in range(10,1000,10):\n",
    "    cnn_descriptor.train(\n",
    "        input_fn=train_input_fn,\n",
    "        max_steps=x)\n",
    "    "
   ]
  },
  {
   "cell_type": "code",
   "execution_count": 1,
   "metadata": {},
   "outputs": [
    {
     "ename": "NameError",
     "evalue": "name 'hists' is not defined",
     "output_type": "error",
     "traceback": [
      "\u001b[0;31m---------------------------------------------------------------------------\u001b[0m",
      "\u001b[0;31mNameError\u001b[0m                                 Traceback (most recent call last)",
      "\u001b[0;32m<ipython-input-1-7e6718ce7682>\u001b[0m in \u001b[0;36m<module>\u001b[0;34m\u001b[0m\n\u001b[1;32m      1\u001b[0m \u001b[0;32mwith\u001b[0m \u001b[0mopen\u001b[0m\u001b[0;34m(\u001b[0m\u001b[0;34m'hists.csv'\u001b[0m\u001b[0;34m,\u001b[0m\u001b[0;34m'w+'\u001b[0m\u001b[0;34m)\u001b[0m \u001b[0;32mas\u001b[0m \u001b[0mf\u001b[0m\u001b[0;34m:\u001b[0m\u001b[0;34m\u001b[0m\u001b[0;34m\u001b[0m\u001b[0m\n\u001b[1;32m      2\u001b[0m     \u001b[0mf\u001b[0m\u001b[0;34m.\u001b[0m\u001b[0mwrite\u001b[0m\u001b[0;34m(\u001b[0m\u001b[0;34m'<10,<20,<40,<180\\n'\u001b[0m\u001b[0;34m)\u001b[0m\u001b[0;34m\u001b[0m\u001b[0;34m\u001b[0m\u001b[0m\n\u001b[0;32m----> 3\u001b[0;31m     \u001b[0;32mfor\u001b[0m \u001b[0mhist\u001b[0m \u001b[0;32min\u001b[0m \u001b[0mhists\u001b[0m\u001b[0;34m:\u001b[0m\u001b[0;34m\u001b[0m\u001b[0;34m\u001b[0m\u001b[0m\n\u001b[0m\u001b[1;32m      4\u001b[0m         \u001b[0mf\u001b[0m\u001b[0;34m.\u001b[0m\u001b[0mwrite\u001b[0m\u001b[0;34m(\u001b[0m\u001b[0;34m','\u001b[0m\u001b[0;34m.\u001b[0m\u001b[0mjoin\u001b[0m\u001b[0;34m(\u001b[0m\u001b[0mhist\u001b[0m\u001b[0;34m)\u001b[0m \u001b[0;34m+\u001b[0m \u001b[0;34m'\\n'\u001b[0m\u001b[0;34m)\u001b[0m\u001b[0;34m\u001b[0m\u001b[0;34m\u001b[0m\u001b[0m\n",
      "\u001b[0;31mNameError\u001b[0m: name 'hists' is not defined"
     ]
    }
   ],
   "source": [
    "with open('hists.csv','w+') as f:\n",
    "    f.write('<10,<20,<40,<180\\n')\n",
    "    for hist in hists:\n",
    "        f.write(','.join(hist) + '\\n')"
   ]
  },
  {
   "cell_type": "code",
   "execution_count": null,
   "metadata": {},
   "outputs": [],
   "source": [
    "\"\"\"\n",
    "\n",
    "    \"\"\""
   ]
  }
 ],
 "metadata": {
  "hide_input": false,
  "kernelspec": {
   "display_name": "Python (ex3)",
   "language": "python",
   "name": "ex3"
  },
  "language_info": {
   "codemirror_mode": {
    "name": "ipython",
    "version": 3
   },
   "file_extension": ".py",
   "mimetype": "text/x-python",
   "name": "python",
   "nbconvert_exporter": "python",
   "pygments_lexer": "ipython3",
   "version": "3.6.8"
  }
 },
 "nbformat": 4,
 "nbformat_minor": 2
}
